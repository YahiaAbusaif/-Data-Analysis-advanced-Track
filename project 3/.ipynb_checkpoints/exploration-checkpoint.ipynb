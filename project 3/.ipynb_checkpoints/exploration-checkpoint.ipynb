{
 "cells": [
  {
   "cell_type": "markdown",
   "metadata": {},
   "source": [
    "# (Dataset Exploration Title)\n",
    "## by Yahia Ali Abusaif\n",
    "\n",
    "## Preliminary Wrangling\n",
    "\n",
    "> This data set contains 81 variables about loan (Loan Status, Borrower Rate, borrower income ...etc) and has 113,937 row as loans data."
   ]
  },
  {
   "cell_type": "code",
   "execution_count": null,
   "metadata": {},
   "outputs": [],
   "source": [
    "# import all packages and set plots to be embedded inline\n",
    "import numpy as np\n",
    "import pandas as pd\n",
    "import matplotlib.pyplot as plt\n",
    "import seaborn as sb\n",
    "\n",
    "%matplotlib inline"
   ]
  },
  {
   "cell_type": "markdown",
   "metadata": {},
   "source": [
    "> Load in your dataset and describe its properties through the questions below.\n",
    "Try and motivate your exploration goals through this section."
   ]
  },
  {
   "cell_type": "code",
   "execution_count": null,
   "metadata": {},
   "outputs": [],
   "source": [
    "df = pd.read_csv('prosperLoanData.csv')\n",
    "#pd.reset_option('display.max_rows')\n",
    "#pd.reset_option('display.max_columns')\n",
    "#pd.reset_option('display.width')"
   ]
  },
  {
   "cell_type": "code",
   "execution_count": null,
   "metadata": {
    "scrolled": false
   },
   "outputs": [],
   "source": [
    "#set option so we can see all columns \n",
    "pd.set_option('display.max_rows', None)\n",
    "pd.set_option('display.max_columns', None)\n",
    "pd.set_option('display.width', None)\n",
    "#explore data \n",
    "print(df.shape)\n",
    "print(df.dtypes)\n",
    "df.head(10)"
   ]
  },
  {
   "cell_type": "code",
   "execution_count": null,
   "metadata": {},
   "outputs": [],
   "source": [
    "#df.dropna(inplace=True)\n",
    "#print(df.shape)\n",
    "#print(df.dtypes)\n",
    "#df.head()\n",
    "###there are variables with  many nans"
   ]
  },
  {
   "cell_type": "code",
   "execution_count": null,
   "metadata": {},
   "outputs": [],
   "source": [
    "#drop duplicates\n",
    "df.drop_duplicates()\n",
    "print(df.shape)"
   ]
  },
  {
   "cell_type": "code",
   "execution_count": null,
   "metadata": {},
   "outputs": [],
   "source": [
    "#check for NA for all variables\n",
    "print(df.isna().sum())"
   ]
  },
  {
   "cell_type": "code",
   "execution_count": null,
   "metadata": {},
   "outputs": [],
   "source": [
    "#drop some columns as we don't need them or they have many NA \n",
    "df.drop(['ListingKey','ListingNumber','ClosedDate','CreditGrade','GroupKey','TotalProsperLoans','TotalProsperPaymentsBilled',\n",
    "            'OnTimeProsperPayments','ProsperPaymentsLessThanOneMonthLate','ProsperPaymentsOneMonthPlusLate',\n",
    "            'ProsperPrincipalBorrowed','ProsperPrincipalOutstanding','ScorexChangeAtTimeOfListing','LoanFirstDefaultedCycleNumber'\n",
    "            ],inplace=True, axis=1)\n",
    "df.dropna(inplace=True)\n",
    "print(df.isna().sum().sum())"
   ]
  },
  {
   "cell_type": "code",
   "execution_count": null,
   "metadata": {},
   "outputs": [],
   "source": [
    "df.shape"
   ]
  },
  {
   "cell_type": "code",
   "execution_count": null,
   "metadata": {},
   "outputs": [],
   "source": [
    "#add order to Categorical Dtype\n",
    "ordinal = {'ProsperRating (Alpha)': ['HR','E','D','C','B', 'A', 'AA'],\n",
    "                    'EmploymentStatus' : [ 'Not employed', 'Other', 'Retired', 'Self-employed', 'Part-time','Full-time', 'Employed']\n",
    "                    }\n",
    "for i in ordinal:\n",
    "    orderedvar = pd.api.types.CategoricalDtype(ordered = True,categories = ordinal[i])\n",
    "    df[i] = df[i].astype(orderedvar)"
   ]
  },
  {
   "cell_type": "code",
   "execution_count": null,
   "metadata": {},
   "outputs": [],
   "source": [
    "print(df.shape)\n",
    "df.describe()"
   ]
  },
  {
   "cell_type": "code",
   "execution_count": null,
   "metadata": {},
   "outputs": [],
   "source": [
    "df.head(10)"
   ]
  },
  {
   "cell_type": "markdown",
   "metadata": {},
   "source": [
    "### What is the structure of your dataset?\n",
    "\n",
    "> The dataset contains 113,937 loans with 81 features but after remove Nan and duplicates it has  76216 loans with 67 features\n",
    "\n",
    "### What is/are the main feature(s) of interest in your dataset?\n",
    "\n",
    "> borrower's Annual Percentage Rate for the loan (BorrowerAPR) \n",
    "\n",
    "### What features in the dataset do you think will help support your investigation into your feature(s) of interest?\n",
    "\n",
    "> Term, ProsperRating, LoanAmount, APR, borrower's EmploymentStatus and the MonthlyIncome ."
   ]
  },
  {
   "cell_type": "markdown",
   "metadata": {},
   "source": [
    "## Univariate Exploration\n",
    "\n",
    "> In this section, investigate distributions of individual variables. If\n",
    "you see unusual points or outliers, take a deeper look to clean things up\n",
    "and prepare yourself to look at relationships between variables."
   ]
  },
  {
   "cell_type": "code",
   "execution_count": null,
   "metadata": {},
   "outputs": [],
   "source": [
    "plt.figure(figsize=(10,8))\n",
    "plt.subplot(1,1,1)\n",
    "sb.countplot(data=df, x='ProsperRating (Alpha)', color='blue');\n",
    "plt.title('Prosper Ratings', fontsize=14)\n",
    "plt.ylabel('Count', fontsize=12)\n",
    "plt.xlabel('ProsperRating', fontsize=12);"
   ]
  },
  {
   "cell_type": "markdown",
   "metadata": {},
   "source": [
    "C and B are the most popular ratings."
   ]
  },
  {
   "cell_type": "code",
   "execution_count": null,
   "metadata": {},
   "outputs": [],
   "source": [
    "plt.figure(figsize=(10,10))\n",
    "plt.subplot(2,1,2)\n",
    "sb.countplot(data=df, x='EmploymentStatus', color='blue');\n",
    "plt.title('Employment Status', fontsize=14)\n",
    "plt.ylabel('Log(Count)', fontsize=12)\n",
    "plt.xlabel('EmploymentStatus', fontsize=12);\n",
    "plt.yscale('log')\n",
    "plt.xticks(rotation=45)\n",
    "\n",
    "\n",
    "plt.subplot(2,1,1)\n",
    "sb.countplot(data=df, x='Term', color='blue')\n",
    "plt.title('Loan Terms', fontsize=14)\n",
    "plt.ylabel('Count', fontsize=12)\n",
    "plt.xlabel('Terms', fontsize=12);\n",
    "sb.despine()"
   ]
  },
  {
   "cell_type": "markdown",
   "metadata": {},
   "source": [
    "most borrowers are employed or full-time.\n",
    "The length of most of the loans are 36 months."
   ]
  },
  {
   "cell_type": "code",
   "execution_count": null,
   "metadata": {},
   "outputs": [],
   "source": [
    "plt.figure(figsize=(20,30))\n",
    "plt.subplot(2,1,1)\n",
    "sb.countplot(data=df, x='ListingCategory (numeric)', color='blue');\n",
    "plt.yscale('log')\n",
    "plt.yticks([100,1000,10000], ['100', '1000', '10000'])\n",
    "plt.title('Listing Distribution', fontsize=14)\n",
    "plt.xlabel('Listing', fontsize=12)\n",
    "plt.ylabel('Log(Count)', fontsize=12)\n",
    "plt.subplots_adjust(hspace = 0.3)\n",
    "\n",
    "plt.subplot(2,1,2)\n",
    "sb.countplot(data=df, y='LoanStatus', color='blue');\n",
    "#plt.xticks(rotation=45)\n",
    "plt.xscale('log')\n",
    "plt.xticks([100,1000,10000], ['100', '1000', '10000'])\n",
    "plt.title('LoanStatus Distribution', fontsize=14)\n",
    "plt.xlabel('Log(Count)', fontsize=12)\n",
    "plt.ylabel('Status', fontsize=12);\n",
    "sb.despine()"
   ]
  },
  {
   "cell_type": "markdown",
   "metadata": {},
   "source": [
    "The category of the listing that the borrower selected when posting their listing: \n",
    "0 - Not Available, \n",
    "1 - Debt Consolidation, \n",
    "2 - Home Improvement,\n",
    "3 - Business,\n",
    "4 - Personal Loan, \n",
    "5 - Student Use, \n",
    "6 - Auto, \n",
    "7- Other, \n",
    "8 - Baby&Adoption, \n",
    "9 - Boat, \n",
    "10 - Cosmetic Procedure, \n",
    "11 - Engagement Ring, \n",
    "12 - Green Loans, \n",
    "13 - Household Expenses, \n",
    "14 - Large Purchases, \n",
    "15 - Medical/Dental, \n",
    "16 -Motorcycle, \n",
    "17 - RV, \n",
    "18 - Taxes, \n",
    "19 - Vacation, \n",
    "20 - Wedding Loans"
   ]
  },
  {
   "cell_type": "markdown",
   "metadata": {},
   "source": [
    "the Debt Consildation (1), Home Improvement (2) and Other (7) are the most popular listings.\n",
    "Most of the Loans have 'Current' status then 'Completed' status."
   ]
  },
  {
   "cell_type": "code",
   "execution_count": null,
   "metadata": {},
   "outputs": [],
   "source": [
    "plt.figure(figsize=(20,10))\n",
    "plt.subplot(1,2,1)\n",
    "bins = np.arange(0, df.StatedMonthlyIncome.max(), 1000)\n",
    "plt.hist(data=df, x='StatedMonthlyIncome', bins=bins, color='darkblue');\n",
    "plt.xlim(0, 35000);\n",
    "plt.title('Income Distribution', fontsize=14)\n",
    "plt.xlabel('Monthly Income', fontsize=12)\n",
    "\n",
    "plt.subplot(1,2,2)\n",
    "sb.boxplot(data=df, y='StatedMonthlyIncome');\n",
    "plt.title('Income boxplot', fontsize=14)\n",
    "plt.ylim(0, 20000)\n",
    "plt.ylabel('Monthly Income', fontsize=12);\n",
    "sb.despine()"
   ]
  },
  {
   "cell_type": "markdown",
   "metadata": {},
   "source": [
    "It appears that the monthly income distribution is a right-skewed distribution with about mean 5000.\n",
    "There are a lot of outliers according to the boxplot which needs more investigating."
   ]
  },
  {
   "cell_type": "code",
   "execution_count": null,
   "metadata": {},
   "outputs": [],
   "source": [
    "# Reduce outliers of Monthly Income by cut them \n",
    "# tried 20000 , 17500 and 15000\n",
    "print(100*df[df['StatedMonthlyIncome']>15000].shape[0] / df.shape[0])\n",
    "df = df[df['StatedMonthlyIncome']<=15000]"
   ]
  },
  {
   "cell_type": "code",
   "execution_count": null,
   "metadata": {},
   "outputs": [],
   "source": [
    "plt.figure(figsize=(20,10))\n",
    "plt.subplot(1,2,1)\n",
    "bins = np.arange(0, df.StatedMonthlyIncome.max(), 1000)\n",
    "plt.hist(data=df, x='StatedMonthlyIncome', bins=bins, color='darkblue');\n",
    "#plt.xlim(0, 35000);\n",
    "plt.title('Income Distribution', fontsize=14)\n",
    "plt.xlabel('Monthly Income', fontsize=12)\n",
    "\n",
    "plt.subplot(1,2,2)\n",
    "sb.boxplot(data=df, y='StatedMonthlyIncome');\n",
    "plt.title('Income boxplot', fontsize=14)\n",
    "plt.ylim(0, 20000)\n",
    "plt.ylabel('Monthly Income', fontsize=12);\n",
    "sb.despine()"
   ]
  },
  {
   "cell_type": "code",
   "execution_count": null,
   "metadata": {},
   "outputs": [],
   "source": [
    "plt.figure(figsize=(10,10))\n",
    "bins = np.arange(0, df.LoanOriginalAmount.max(), 1200)\n",
    "plt.hist(data=df, x='LoanOriginalAmount', bins=bins, color='darkblue')\n",
    "plt.title('Loan Amount Distribution', fontsize=14)\n",
    "plt.xlim(0, 35000);\n",
    "plt.xlabel('Amount', fontsize=12);\n",
    "sb.despine()"
   ]
  },
  {
   "cell_type": "markdown",
   "metadata": {},
   "source": [
    "loans mean of amount is about 5000 borrowers rarely ask for high-amount loans"
   ]
  },
  {
   "cell_type": "code",
   "execution_count": null,
   "metadata": {},
   "outputs": [],
   "source": [
    "plt.figure(figsize=(10, 8))\n",
    "bins = np.arange(0, df.BorrowerAPR.max()+0.01, 0.009)\n",
    "plt.hist(data=df, x='BorrowerAPR', bins=bins, color='darkblue');\n",
    "plt.title('Borrower APR Distribution', fontsize=14)\n",
    "plt.xlabel('Borrower APR', fontsize=12);\n",
    "sb.despine()"
   ]
  },
  {
   "cell_type": "markdown",
   "metadata": {},
   "source": [
    "APR is more close to a unimodal distribution with mean around 0.2."
   ]
  },
  {
   "cell_type": "code",
   "execution_count": null,
   "metadata": {},
   "outputs": [],
   "source": []
  },
  {
   "cell_type": "markdown",
   "metadata": {},
   "source": [
    "### Discuss the distribution(s) of your variable(s) of interest. Were there any unusual points? Did you need to perform any transformations?\n",
    "\n",
    ">APR is a unimodal distribution with mean around 0.2. No transformations needed\n",
    "### Of the features you investigated, were there any unusual distributions? Did you perform any operations on the data to tidy, adjust, or change the form of the data? If so, why did you do this?\n",
    "\n",
    ">I used log(count) to close the gap between numbers as there are very large numbers can dominate the plot.\n",
    "   \n",
    "> For MonthlyIncome distribution, It was right-skewed with many outliers, some had large income amounts compared to the rest of the borrowers which can be made up, and thus I removed most of them since they represented around 2.5% of the data.\n",
    "\n",
    "\n"
   ]
  },
  {
   "cell_type": "markdown",
   "metadata": {},
   "source": [
    "## Bivariate Exploration\n",
    "\n",
    "> In this section, investigate relationships between pairs of variables in your\n",
    "data. Make sure the variables that you cover here have been introduced in some\n",
    "fashion in the previous section (univariate exploration)."
   ]
  },
  {
   "cell_type": "code",
   "execution_count": null,
   "metadata": {},
   "outputs": [],
   "source": [
    "plt.figure(figsize=(10,15))\n",
    "plt.subplot(3,1,1)\n",
    "sb.regplot(data=df, x='LoanOriginalAmount', y='BorrowerAPR', color='darkblue', x_jitter=100,\n",
    "          scatter_kws={'alpha':0.01}, fit_reg=True)\n",
    "plt.title('APR vs LoanAmount', fontsize=14)\n",
    "plt.xlabel('LoanAmount', fontsize=12)\n",
    "plt.ylabel('APR', fontsize=12);\n",
    "\n",
    "plt.subplot(3,1,2)\n",
    "sb.regplot(data=df, x='StatedMonthlyIncome', y='LoanOriginalAmount', color='darkblue', x_jitter=100,\n",
    "          scatter_kws={'alpha':0.01}, fit_reg=True)\n",
    "plt.title('LoanAmount vs Income', fontsize=14)\n",
    "plt.xlabel('MonthlyIncome', fontsize=12)\n",
    "plt.ylabel('LoanAmount', fontsize=12);\n",
    "sb.despine()\n",
    "\n",
    "plt.subplot(3,1,3)\n",
    "sb.regplot(data=df, x='StatedMonthlyIncome', y='BorrowerAPR', color='darkblue', x_jitter=100,\n",
    "          scatter_kws={'alpha':0.01}, fit_reg=True)\n",
    "plt.title('APR vs Income', fontsize=14)\n",
    "plt.xlabel('MonthlyIncome', fontsize=12)\n",
    "plt.ylabel('APR', fontsize=12);\n",
    "sb.despine()"
   ]
  },
  {
   "cell_type": "markdown",
   "metadata": {},
   "source": [
    "there exists a negative relationship between APR and LoanAmount.\n",
    "There is a positive relation between loanAmount and Income.\n",
    "there is a weak negative relation between monthly income and the APR"
   ]
  },
  {
   "cell_type": "code",
   "execution_count": null,
   "metadata": {},
   "outputs": [],
   "source": [
    "plt.figure(figsize = (10, 10))\n",
    "g = sb.PairGrid(data=df, y_vars=['BorrowerAPR', 'LoanOriginalAmount', 'StatedMonthlyIncome'], \n",
    "                x_vars=['Term', 'ProsperRating (Alpha)', 'EmploymentStatus'], \n",
    "                height=3, aspect = 1.5)\n",
    "g.map(sb.barplot, color='darkblue')\n",
    "plt.xticks(rotation=45);"
   ]
  },
  {
   "cell_type": "markdown",
   "metadata": {},
   "source": [
    "Rating has negative relation with APR, the more the rating is, the less APR is.\n",
    "Large loan amounts tend to have longer terms and better ratings.\n",
    "Large loan amounts are mostly created by Employed borrowers.\n",
    "More monthly incomes have higher ratings."
   ]
  },
  {
   "cell_type": "code",
   "execution_count": null,
   "metadata": {},
   "outputs": [],
   "source": [
    "plt.figure(figsize=(10,10))\n",
    "sb.countplot(data=df, x='ProsperRating (Alpha)', hue='Term')\n",
    "plt.title('ProsperRating Count', fontsize=14)\n",
    "plt.xlabel('ProsperRating', fontsize=12)\n",
    "plt.ylabel('Count', fontsize=12)\n",
    "sb.despine()"
   ]
  },
  {
   "cell_type": "markdown",
   "metadata": {},
   "source": [
    "12-months is constant for all rating \n",
    "36-months ratings is the most popular/standard terms apparently.\n",
    "60-months terms tend to have C and B ratings."
   ]
  },
  {
   "cell_type": "code",
   "execution_count": null,
   "metadata": {},
   "outputs": [],
   "source": [
    "plt.figure(figsize=(15,10))\n",
    "sb.countplot(data=df, x='ProsperRating (Alpha)', hue='EmploymentStatus')\n",
    "plt.title('ProsperRating Count', fontsize=14)\n",
    "plt.xlabel('ProsperRating', fontsize=12)\n",
    "plt.ylabel('log(Count)', fontsize=12)\n",
    "plt.yscale('log')\n",
    "sb.despine()"
   ]
  },
  {
   "cell_type": "markdown",
   "metadata": {},
   "source": [
    "not-employed only appear in only D rating.\n",
    "self-employed have less mean rating."
   ]
  },
  {
   "cell_type": "code",
   "execution_count": null,
   "metadata": {},
   "outputs": [],
   "source": []
  },
  {
   "cell_type": "markdown",
   "metadata": {},
   "source": [
    "### Talk about some of the relationships you observed in this part of the investigation. How did the feature(s) of interest vary with other features in the dataset?\n",
    "\n",
    "> \n",
    "        APR has negative relation with ProsperRatings.\n",
    "        The APR has negative relation with MonthlyIncome.\n",
    "        The APR has negative relation with LoanAmount.\n",
    "         \n",
    "\n",
    "\n",
    "\n",
    "### Did you observe any interesting relationships between the other features (not the main feature(s) of interest)?\n",
    "\n",
    "> \n",
    "        LoanAmount has positive correlation with MonthlyIncome.\n",
    "        LoanAmount has positive correlation with ProsperRatings. High loanAmounts tend to have higher ratings.\n",
    "        More MonthlyIncomes have higher ratings.\n",
    "        Large loanAmounts are made by employed borrowers.\n",
    "        36-months terms are the most popular across all ratings.\n",
    "        HR ratings have only 36-months terms.\n",
    "        not-employed and self-employed have less mean rating.\n",
    "\n"
   ]
  },
  {
   "cell_type": "markdown",
   "metadata": {},
   "source": [
    "## Multivariate Exploration\n",
    "\n",
    "> Create plots of three or more variables to investigate your data even\n",
    "further. Make sure that your investigations are justified, and follow from\n",
    "your work in the previous sections."
   ]
  },
  {
   "cell_type": "code",
   "execution_count": null,
   "metadata": {},
   "outputs": [],
   "source": [
    "plt.figure(figsize=(10,10))\n",
    "g=sb.FacetGrid(data=df, col='Term', col_wrap=4, height=5, aspect=1.2)\n",
    "g.map(sb.regplot, 'LoanOriginalAmount', 'BorrowerAPR', color='darkblue', x_jitter=100, scatter_kws={'alpha':0.1});"
   ]
  },
  {
   "cell_type": "markdown",
   "metadata": {},
   "source": [
    "It seems that Term has no effect on the relation between APR and LoanAmount."
   ]
  },
  {
   "cell_type": "code",
   "execution_count": null,
   "metadata": {},
   "outputs": [],
   "source": [
    "plt.figure(figsize=(10,10))\n",
    "g=sb.FacetGrid(data=df, col='ProsperRating (Alpha)', col_wrap=4, height=5, aspect=1)\n",
    "g.map(sb.regplot, 'LoanOriginalAmount', 'BorrowerAPR', color='darkblue', x_jitter=100, scatter_kws={'alpha':0.1});"
   ]
  },
  {
   "cell_type": "markdown",
   "metadata": {},
   "source": [
    "The Negative relation between the APR and loanAmount turns to be slightly positive in high ratings!"
   ]
  },
  {
   "cell_type": "code",
   "execution_count": null,
   "metadata": {},
   "outputs": [],
   "source": [
    "plt.figure(figsize = (10,16))\n",
    "plt.subplot(3,1,1)\n",
    "sb.barplot(data=df, x='ProsperRating (Alpha)', y='BorrowerAPR', hue = 'Term')\n",
    "plt.title('APR vs rating across term')\n",
    "plt.ylabel('Mean APR')\n",
    "\n",
    "plt.subplot(3,1,2)\n",
    "sb.barplot(data=df, x='ProsperRating (Alpha)', y='LoanOriginalAmount', hue = 'Term')\n",
    "plt.title('LoanAmount vs rating across term')\n",
    "plt.ylabel('Mean LoanAmount')\n",
    "\n",
    "plt.subplot(3,1,3)\n",
    "sb.barplot(data=df, x='ProsperRating (Alpha)', y='StatedMonthlyIncome', hue = 'Term')\n",
    "plt.title('MonthIncome vs rating across term')\n",
    "plt.ylabel('Mean MonthIncome');"
   ]
  },
  {
   "cell_type": "markdown",
   "metadata": {},
   "source": [
    "There is negative relation between APR and rating across all terms.\n",
    "There is positive relation between LoanAmount and rating for 36-months and 60-months terms but there is no change in 12-months term.\n",
    "For monthly income vs rating, the behaviour across all terms is quite similar with weak positive relation."
   ]
  },
  {
   "cell_type": "markdown",
   "metadata": {},
   "source": [
    "### Talk about some of the relationships you observed in this part of the investigation. Were there features that strengthened each other in terms of looking at your feature(s) of interest?\n",
    "\n",
    "> we confirm the negative correlation between APR and LoanAmount across all terms. However, observing this relation across ratings, we found that it is a negative relation that turned to be slightly positive with higher ratings surprisngly. there is also negative relation between mean APR and ratings across all terms, while there is positive relation between LoanAmount and ratings across all terms. Income and ratings have similar behaviour with weak positive relation.\n",
    "\n",
    "### Were there any interesting or surprising interactions between features?\n",
    "\n",
    "> yes, APR vs LoanAmount's negative relation turning to be slightly positive in higher ratings."
   ]
  }
 ],
 "metadata": {
  "kernelspec": {
   "display_name": "Python 3",
   "language": "python",
   "name": "python3"
  },
  "language_info": {
   "codemirror_mode": {
    "name": "ipython",
    "version": 3
   },
   "file_extension": ".py",
   "mimetype": "text/x-python",
   "name": "python",
   "nbconvert_exporter": "python",
   "pygments_lexer": "ipython3",
   "version": "3.8.5"
  }
 },
 "nbformat": 4,
 "nbformat_minor": 2
}
